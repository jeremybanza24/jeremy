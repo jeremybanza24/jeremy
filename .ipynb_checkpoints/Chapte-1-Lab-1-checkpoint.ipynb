{
 "cells": [
  {
   "cell_type": "markdown",
   "id": "915076ef-820e-4615-ae38-8e85261e6332",
   "metadata": {},
   "source": [
    "# A. IMPORTATION DES LIBRAIRIES"
   ]
  },
  {
   "cell_type": "code",
   "execution_count": 89,
   "id": "a1ce60b3-d7c0-456c-9a08-be526492c856",
   "metadata": {},
   "outputs": [],
   "source": [
    "import numpy as np"
   ]
  },
  {
   "cell_type": "markdown",
   "id": "8fcbdb2c-05ae-4b67-9086-e145aa871589",
   "metadata": {},
   "source": [
    "## 1.1 Tableau a 1 D"
   ]
  },
  {
   "cell_type": "code",
   "execution_count": 90,
   "id": "0ce48276-d6fb-4ddf-86a5-af52736abc30",
   "metadata": {},
   "outputs": [],
   "source": [
    "#creation d'un tableau a 1 D\n",
    "tab_1D = np.array([2,4,6,8,10,12,14])"
   ]
  },
  {
   "cell_type": "code",
   "execution_count": 91,
   "id": "389b72b6-a847-44e4-a837-b934c52db37a",
   "metadata": {},
   "outputs": [
    {
     "name": "stdout",
     "output_type": "stream",
     "text": [
      "Dimension de tableau (7,)\n",
      "type du tableau <class 'numpy.ndarray'>\n",
      "[ 2  4  6  8 10 12 14]\n"
     ]
    }
   ],
   "source": [
    "print(\"Dimension de tableau\", tab_1D.shape)\n",
    "print(\"type du tableau\", type(tab_1D))\n",
    "print(tab_1D)"
   ]
  },
  {
   "cell_type": "markdown",
   "id": "424aa5e7-91be-418a-910d-db82d0eaaab8",
   "metadata": {},
   "source": [
    "## 1.2 Tableau a 2 D"
   ]
  },
  {
   "cell_type": "code",
   "execution_count": 92,
   "id": "b77c043a-f447-440c-8b07-92470624d0a6",
   "metadata": {},
   "outputs": [],
   "source": [
    "# creation d'un tableau a 2D\n",
    "tab_2D = np.array([\n",
    "    [1,3,5,7,8],\n",
    "    [11,33,55,77,88],\n",
    "    [93,72,58,13,81],\n",
    "])    "
   ]
  },
  {
   "cell_type": "code",
   "execution_count": 93,
   "id": "6c6a419f-1e99-4049-ab52-fc4a872a2c13",
   "metadata": {},
   "outputs": [
    {
     "name": "stdout",
     "output_type": "stream",
     "text": [
      "Dimension de tableau (3, 5)\n",
      "type du tableau <class 'numpy.ndarray'>\n",
      "[[ 1  3  5  7  8]\n",
      " [11 33 55 77 88]\n",
      " [93 72 58 13 81]]\n"
     ]
    }
   ],
   "source": [
    "print(\"Dimension de tableau\", tab_2D.shape)\n",
    "print(\"type du tableau\", type(tab_2D))\n",
    "print(tab_2D)"
   ]
  },
  {
   "cell_type": "markdown",
   "id": "e012d51b-1a84-4030-85b7-d55e8c9c652e",
   "metadata": {},
   "source": [
    "## 1.3 Tableau a 3 D"
   ]
  },
  {
   "cell_type": "code",
   "execution_count": 94,
   "id": "e57f021e-81f4-44e5-8ca5-aea2592c7376",
   "metadata": {},
   "outputs": [],
   "source": [
    "# creation d'un tableau 3D\n",
    "tab_3D = np.array([[\n",
    "    [9,7,5,3,1],\n",
    "    [22,55,89,63,31],\n",
    "    [94,75,59,23,81]\n",
    "]])"
   ]
  },
  {
   "cell_type": "code",
   "execution_count": 95,
   "id": "a2a7fa53-8395-44a2-905e-a789e3806760",
   "metadata": {},
   "outputs": [
    {
     "name": "stdout",
     "output_type": "stream",
     "text": [
      "Dimension de tableau (1, 3, 5)\n",
      "type du tableau <class 'numpy.ndarray'>\n",
      "[[[ 9  7  5  3  1]\n",
      "  [22 55 89 63 31]\n",
      "  [94 75 59 23 81]]]\n"
     ]
    }
   ],
   "source": [
    "print(\"Dimension de tableau\", tab_3D.shape)\n",
    "print(\"type du tableau\", type(tab_3D))\n",
    "print(tab_3D)"
   ]
  },
  {
   "cell_type": "markdown",
   "id": "675867a3-a5dc-4e3c-8de2-e771669c0043",
   "metadata": {},
   "source": [
    "## 1.4 Tableau a 4 D"
   ]
  },
  {
   "cell_type": "code",
   "execution_count": 96,
   "id": "bed30d74-dd0f-4ebf-b9e8-abb8e0f5ffcc",
   "metadata": {},
   "outputs": [],
   "source": [
    "# creation d'un tableau 4D\n",
    "tab_4D = np.array([[[\n",
    "    [9,7,5,3,1],\n",
    "    [23,66,75,33,81],\n",
    "    [91,67,15,83,41],\n",
    "]]])"
   ]
  },
  {
   "cell_type": "code",
   "execution_count": null,
   "id": "e0952c8e-4612-4432-9f50-822dc4790a1f",
   "metadata": {},
   "outputs": [],
   "source": []
  },
  {
   "cell_type": "code",
   "execution_count": 97,
   "id": "c91da9fc-8d62-4bb4-9adb-def06fa10b8d",
   "metadata": {},
   "outputs": [
    {
     "name": "stdout",
     "output_type": "stream",
     "text": [
      "Dimension de tableau (1, 1, 3, 5)\n",
      "type du tableau <class 'numpy.ndarray'>\n",
      "[[[[ 9  7  5  3  1]\n",
      "   [23 66 75 33 81]\n",
      "   [91 67 15 83 41]]]]\n"
     ]
    }
   ],
   "source": [
    "print(\"Dimension de tableau\", tab_4D.shape)\n",
    "print(\"type du tableau\", type(tab_4D))\n",
    "print(tab_4D)"
   ]
  },
  {
   "cell_type": "markdown",
   "id": "2e89d73b-5534-4e66-a860-f2bbf92db119",
   "metadata": {
    "tags": []
   },
   "source": [
    "# B. OPERATION"
   ]
  },
  {
   "cell_type": "code",
   "execution_count": 98,
   "id": "62617d3f-dd2f-495e-87fa-d31ae68ae226",
   "metadata": {
    "tags": []
   },
   "outputs": [],
   "source": [
    "a = np.array([\n",
    "    [2,4,6,8],\n",
    "    [24,45,65,85]\n",
    "])  \n",
    "b = np.array([\n",
    "    [20,40,60,80],\n",
    "    [250,450,650,850]\n",
    "])  "
   ]
  },
  {
   "cell_type": "code",
   "execution_count": 99,
   "id": "5d63fa12-573c-4fb7-96b5-4c9b9fe53bbc",
   "metadata": {
    "tags": []
   },
   "outputs": [
    {
     "name": "stdout",
     "output_type": "stream",
     "text": [
      "(2, 4)\n",
      "[[ 2  4  6  8]\n",
      " [24 45 65 85]]\n",
      "(2, 4)\n",
      "[[ 20  40  60  80]\n",
      " [250 450 650 850]]\n"
     ]
    }
   ],
   "source": [
    "print(a.shape)\n",
    "print(a)\n",
    "print(b.shape)\n",
    "print(b)"
   ]
  },
  {
   "cell_type": "markdown",
   "id": "7a5a4219-b719-45a5-9577-4b95c670330a",
   "metadata": {},
   "source": [
    "## 1.1 ADDITION"
   ]
  },
  {
   "cell_type": "code",
   "execution_count": 100,
   "id": "8bb862ca-d3ce-4697-90de-59aa020e95a7",
   "metadata": {
    "tags": []
   },
   "outputs": [
    {
     "name": "stdout",
     "output_type": "stream",
     "text": [
      "[[ 22  44  66  88]\n",
      " [274 495 715 935]]\n"
     ]
    }
   ],
   "source": [
    "add = a + b\n",
    "print(add)"
   ]
  },
  {
   "cell_type": "markdown",
   "id": "07d6c247-0c02-4f6e-ba58-90f014d68e34",
   "metadata": {},
   "source": [
    "## 1.2 SOUSTRACTION"
   ]
  },
  {
   "cell_type": "code",
   "execution_count": 101,
   "id": "2fc5fa0b-b5e6-4a09-9c2c-44cb93b5b8ae",
   "metadata": {
    "tags": []
   },
   "outputs": [
    {
     "name": "stdout",
     "output_type": "stream",
     "text": [
      "[[ -18  -36  -54  -72]\n",
      " [-226 -405 -585 -765]]\n"
     ]
    }
   ],
   "source": [
    "sous = a - b\n",
    "print(sous)"
   ]
  },
  {
   "cell_type": "markdown",
   "id": "6aeb00dd-d769-496c-b320-3de7846e8a2a",
   "metadata": {},
   "source": [
    "## 1.3 multipliation"
   ]
  },
  {
   "cell_type": "code",
   "execution_count": 102,
   "id": "a1c96402-a155-420d-9a6d-e48b0c1e113f",
   "metadata": {
    "tags": []
   },
   "outputs": [
    {
     "name": "stdout",
     "output_type": "stream",
     "text": [
      "[[   40   160   360   640]\n",
      " [ 6000 20250 42250 72250]]\n"
     ]
    }
   ],
   "source": [
    "multi = a * b\n",
    "print(multi)"
   ]
  },
  {
   "cell_type": "markdown",
   "id": "d9f0b58a-306b-4967-8483-5dfc73f0085f",
   "metadata": {},
   "source": [
    "# C. MANIPULATION DES DONNEES"
   ]
  },
  {
   "cell_type": "code",
   "execution_count": 103,
   "id": "0d4b8913-699d-4785-99c0-547808cc3079",
   "metadata": {
    "tags": []
   },
   "outputs": [],
   "source": [
    "# creation d'un dictionnaire\n",
    "info_etudiants = {\n",
    "    'matricule': '2022020072', \n",
    "    'nom': 'banza',\n",
    "    'prenom': 'jeremy',\n",
    "    'age':13,\n",
    "    'GPA':'A'\n",
    "}"
   ]
  },
  {
   "cell_type": "code",
   "execution_count": 104,
   "id": "ed0fb198-73b8-4fd9-b8dc-e03da476fb41",
   "metadata": {
    "tags": []
   },
   "outputs": [
    {
     "name": "stdout",
     "output_type": "stream",
     "text": [
      "{'matricule': '2022020072', 'nom': 'banza', 'prenom': 'jeremy', 'age': 13, 'GPA': 'A'}\n"
     ]
    }
   ],
   "source": [
    "print(info_etudiants)"
   ]
  },
  {
   "cell_type": "code",
   "execution_count": 105,
   "id": "4f65a10e-d5d7-45f6-ab8c-022fa9f74d6a",
   "metadata": {
    "tags": []
   },
   "outputs": [],
   "source": [
    "info_tous_les_etudiants_bac_gl_ia = {\n",
    "    'matricule': ['2022020072','2022598072','2023020078','2025020077','2026020074'],\n",
    "    'nom': ['banza','mukini','kilumba','bondo','nkulu'],\n",
    "    'prenom':[ 'jeremy', 'jean marc', 'david', 'van', 'baron'],\n",
    "    'age':[13,22,18,15,30],\n",
    "    'GPA':['A','A','A','A','A']\n",
    "}"
   ]
  },
  {
   "cell_type": "code",
   "execution_count": 106,
   "id": "8993a014-3ad1-4952-97d8-b7523d388f8f",
   "metadata": {
    "tags": []
   },
   "outputs": [
    {
     "name": "stdout",
     "output_type": "stream",
     "text": [
      "{'matricule': ['2022020072', '2022598072', '2023020078', '2025020077', '2026020074'], 'nom': ['banza', 'mukini', 'kilumba', 'bondo', 'nkulu'], 'prenom': ['jeremy', 'jean marc', 'david', 'van', 'baron'], 'age': [13, 22, 18, 15, 30], 'GPA': ['A', 'A', 'A', 'A', 'A']}\n"
     ]
    }
   ],
   "source": [
    "print(info_tous_les_etudiants_bac_gl_ia)"
   ]
  },
  {
   "cell_type": "code",
   "execution_count": 107,
   "id": "f3eeb4f3-e3b6-4611-ab1f-76dedf8840c7",
   "metadata": {
    "tags": []
   },
   "outputs": [],
   "source": [
    "# importer pandas\n",
    "import pandas as pd"
   ]
  },
  {
   "cell_type": "code",
   "execution_count": 108,
   "id": "a384b7d9-ed73-42e0-89e7-3f9515741ff5",
   "metadata": {
    "tags": []
   },
   "outputs": [],
   "source": [
    "donnees_etudiants = pd.DataFrame(info_tous_les_etudiants_bac_gl_ia)"
   ]
  },
  {
   "cell_type": "code",
   "execution_count": 109,
   "id": "dd5d5f34-7be8-4e4a-80be-97a950be29c8",
   "metadata": {
    "tags": []
   },
   "outputs": [
    {
     "data": {
      "text/html": [
       "<div>\n",
       "<style scoped>\n",
       "    .dataframe tbody tr th:only-of-type {\n",
       "        vertical-align: middle;\n",
       "    }\n",
       "\n",
       "    .dataframe tbody tr th {\n",
       "        vertical-align: top;\n",
       "    }\n",
       "\n",
       "    .dataframe thead th {\n",
       "        text-align: right;\n",
       "    }\n",
       "</style>\n",
       "<table border=\"1\" class=\"dataframe\">\n",
       "  <thead>\n",
       "    <tr style=\"text-align: right;\">\n",
       "      <th></th>\n",
       "      <th>matricule</th>\n",
       "      <th>nom</th>\n",
       "      <th>prenom</th>\n",
       "      <th>age</th>\n",
       "      <th>GPA</th>\n",
       "    </tr>\n",
       "  </thead>\n",
       "  <tbody>\n",
       "    <tr>\n",
       "      <th>0</th>\n",
       "      <td>2022020072</td>\n",
       "      <td>banza</td>\n",
       "      <td>jeremy</td>\n",
       "      <td>13</td>\n",
       "      <td>A</td>\n",
       "    </tr>\n",
       "    <tr>\n",
       "      <th>1</th>\n",
       "      <td>2022598072</td>\n",
       "      <td>mukini</td>\n",
       "      <td>jean marc</td>\n",
       "      <td>22</td>\n",
       "      <td>A</td>\n",
       "    </tr>\n",
       "    <tr>\n",
       "      <th>2</th>\n",
       "      <td>2023020078</td>\n",
       "      <td>kilumba</td>\n",
       "      <td>david</td>\n",
       "      <td>18</td>\n",
       "      <td>A</td>\n",
       "    </tr>\n",
       "    <tr>\n",
       "      <th>3</th>\n",
       "      <td>2025020077</td>\n",
       "      <td>bondo</td>\n",
       "      <td>van</td>\n",
       "      <td>15</td>\n",
       "      <td>A</td>\n",
       "    </tr>\n",
       "    <tr>\n",
       "      <th>4</th>\n",
       "      <td>2026020074</td>\n",
       "      <td>nkulu</td>\n",
       "      <td>baron</td>\n",
       "      <td>30</td>\n",
       "      <td>A</td>\n",
       "    </tr>\n",
       "  </tbody>\n",
       "</table>\n",
       "</div>"
      ],
      "text/plain": [
       "    matricule      nom     prenom  age GPA\n",
       "0  2022020072    banza     jeremy   13   A\n",
       "1  2022598072   mukini  jean marc   22   A\n",
       "2  2023020078  kilumba      david   18   A\n",
       "3  2025020077    bondo        van   15   A\n",
       "4  2026020074    nkulu      baron   30   A"
      ]
     },
     "execution_count": 109,
     "metadata": {},
     "output_type": "execute_result"
    }
   ],
   "source": [
    "donnees_etudiants "
   ]
  },
  {
   "cell_type": "code",
   "execution_count": 110,
   "id": "519f511d-4e38-4c73-8af6-3c0edc50b583",
   "metadata": {},
   "outputs": [
    {
     "data": {
      "text/html": [
       "<div>\n",
       "<style scoped>\n",
       "    .dataframe tbody tr th:only-of-type {\n",
       "        vertical-align: middle;\n",
       "    }\n",
       "\n",
       "    .dataframe tbody tr th {\n",
       "        vertical-align: top;\n",
       "    }\n",
       "\n",
       "    .dataframe thead th {\n",
       "        text-align: right;\n",
       "    }\n",
       "</style>\n",
       "<table border=\"1\" class=\"dataframe\">\n",
       "  <thead>\n",
       "    <tr style=\"text-align: right;\">\n",
       "      <th></th>\n",
       "      <th>matricule</th>\n",
       "      <th>nom</th>\n",
       "      <th>prenom</th>\n",
       "      <th>age</th>\n",
       "      <th>GPA</th>\n",
       "    </tr>\n",
       "  </thead>\n",
       "  <tbody>\n",
       "    <tr>\n",
       "      <th>3</th>\n",
       "      <td>2025020077</td>\n",
       "      <td>bondo</td>\n",
       "      <td>van</td>\n",
       "      <td>15</td>\n",
       "      <td>A</td>\n",
       "    </tr>\n",
       "    <tr>\n",
       "      <th>4</th>\n",
       "      <td>2026020074</td>\n",
       "      <td>nkulu</td>\n",
       "      <td>baron</td>\n",
       "      <td>30</td>\n",
       "      <td>A</td>\n",
       "    </tr>\n",
       "  </tbody>\n",
       "</table>\n",
       "</div>"
      ],
      "text/plain": [
       "    matricule    nom prenom  age GPA\n",
       "3  2025020077  bondo    van   15   A\n",
       "4  2026020074  nkulu  baron   30   A"
      ]
     },
     "execution_count": 110,
     "metadata": {},
     "output_type": "execute_result"
    }
   ],
   "source": [
    "donnees_etudiants.tail(2)"
   ]
  },
  {
   "cell_type": "code",
   "execution_count": 111,
   "id": "d47e0b2f-74ec-4958-95b9-deabc3a1e0e5",
   "metadata": {
    "tags": []
   },
   "outputs": [
    {
     "data": {
      "text/plain": [
       "0    2022020072\n",
       "1    2022598072\n",
       "2    2023020078\n",
       "3    2025020077\n",
       "4    2026020074\n",
       "Name: matricule, dtype: object"
      ]
     },
     "execution_count": 111,
     "metadata": {},
     "output_type": "execute_result"
    }
   ],
   "source": [
    "donnees_etudiants['matricule']"
   ]
  },
  {
   "cell_type": "code",
   "execution_count": 112,
   "id": "d9b8b083-7fde-4eb1-b1ba-efffe0f6fb80",
   "metadata": {
    "tags": []
   },
   "outputs": [
    {
     "data": {
      "text/html": [
       "<div>\n",
       "<style scoped>\n",
       "    .dataframe tbody tr th:only-of-type {\n",
       "        vertical-align: middle;\n",
       "    }\n",
       "\n",
       "    .dataframe tbody tr th {\n",
       "        vertical-align: top;\n",
       "    }\n",
       "\n",
       "    .dataframe thead th {\n",
       "        text-align: right;\n",
       "    }\n",
       "</style>\n",
       "<table border=\"1\" class=\"dataframe\">\n",
       "  <thead>\n",
       "    <tr style=\"text-align: right;\">\n",
       "      <th></th>\n",
       "      <th>matricule</th>\n",
       "      <th>nom</th>\n",
       "    </tr>\n",
       "  </thead>\n",
       "  <tbody>\n",
       "    <tr>\n",
       "      <th>0</th>\n",
       "      <td>2022020072</td>\n",
       "      <td>banza</td>\n",
       "    </tr>\n",
       "    <tr>\n",
       "      <th>1</th>\n",
       "      <td>2022598072</td>\n",
       "      <td>mukini</td>\n",
       "    </tr>\n",
       "    <tr>\n",
       "      <th>2</th>\n",
       "      <td>2023020078</td>\n",
       "      <td>kilumba</td>\n",
       "    </tr>\n",
       "    <tr>\n",
       "      <th>3</th>\n",
       "      <td>2025020077</td>\n",
       "      <td>bondo</td>\n",
       "    </tr>\n",
       "    <tr>\n",
       "      <th>4</th>\n",
       "      <td>2026020074</td>\n",
       "      <td>nkulu</td>\n",
       "    </tr>\n",
       "  </tbody>\n",
       "</table>\n",
       "</div>"
      ],
      "text/plain": [
       "    matricule      nom\n",
       "0  2022020072    banza\n",
       "1  2022598072   mukini\n",
       "2  2023020078  kilumba\n",
       "3  2025020077    bondo\n",
       "4  2026020074    nkulu"
      ]
     },
     "execution_count": 112,
     "metadata": {},
     "output_type": "execute_result"
    }
   ],
   "source": [
    "donnees_etudiants[['matricule','nom']]"
   ]
  },
  {
   "cell_type": "code",
   "execution_count": 113,
   "id": "0db740fd-3bd0-4730-85d7-c0041b32a5a6",
   "metadata": {
    "tags": []
   },
   "outputs": [
    {
     "data": {
      "text/plain": [
       "matricule    2023020078\n",
       "nom             kilumba\n",
       "prenom            david\n",
       "age                  18\n",
       "GPA                   A\n",
       "Name: 2, dtype: object"
      ]
     },
     "execution_count": 113,
     "metadata": {},
     "output_type": "execute_result"
    }
   ],
   "source": [
    "donnees_etudiants.iloc[2]"
   ]
  },
  {
   "cell_type": "code",
   "execution_count": 114,
   "id": "a1fc6289-5083-4d22-96c9-8edf512d4db1",
   "metadata": {
    "tags": []
   },
   "outputs": [
    {
     "data": {
      "text/html": [
       "<div>\n",
       "<style scoped>\n",
       "    .dataframe tbody tr th:only-of-type {\n",
       "        vertical-align: middle;\n",
       "    }\n",
       "\n",
       "    .dataframe tbody tr th {\n",
       "        vertical-align: top;\n",
       "    }\n",
       "\n",
       "    .dataframe thead th {\n",
       "        text-align: right;\n",
       "    }\n",
       "</style>\n",
       "<table border=\"1\" class=\"dataframe\">\n",
       "  <thead>\n",
       "    <tr style=\"text-align: right;\">\n",
       "      <th></th>\n",
       "      <th>matricule</th>\n",
       "      <th>nom</th>\n",
       "      <th>prenom</th>\n",
       "      <th>age</th>\n",
       "      <th>GPA</th>\n",
       "    </tr>\n",
       "  </thead>\n",
       "  <tbody>\n",
       "    <tr>\n",
       "      <th>0</th>\n",
       "      <td>2022020072</td>\n",
       "      <td>banza</td>\n",
       "      <td>jeremy</td>\n",
       "      <td>13</td>\n",
       "      <td>A</td>\n",
       "    </tr>\n",
       "    <tr>\n",
       "      <th>1</th>\n",
       "      <td>2022598072</td>\n",
       "      <td>mukini</td>\n",
       "      <td>jean marc</td>\n",
       "      <td>22</td>\n",
       "      <td>A</td>\n",
       "    </tr>\n",
       "    <tr>\n",
       "      <th>2</th>\n",
       "      <td>2023020078</td>\n",
       "      <td>kilumba</td>\n",
       "      <td>david</td>\n",
       "      <td>18</td>\n",
       "      <td>A</td>\n",
       "    </tr>\n",
       "    <tr>\n",
       "      <th>3</th>\n",
       "      <td>2025020077</td>\n",
       "      <td>bondo</td>\n",
       "      <td>van</td>\n",
       "      <td>15</td>\n",
       "      <td>A</td>\n",
       "    </tr>\n",
       "    <tr>\n",
       "      <th>4</th>\n",
       "      <td>2026020074</td>\n",
       "      <td>nkulu</td>\n",
       "      <td>baron</td>\n",
       "      <td>30</td>\n",
       "      <td>A</td>\n",
       "    </tr>\n",
       "  </tbody>\n",
       "</table>\n",
       "</div>"
      ],
      "text/plain": [
       "    matricule      nom     prenom  age GPA\n",
       "0  2022020072    banza     jeremy   13   A\n",
       "1  2022598072   mukini  jean marc   22   A\n",
       "2  2023020078  kilumba      david   18   A\n",
       "3  2025020077    bondo        van   15   A\n",
       "4  2026020074    nkulu      baron   30   A"
      ]
     },
     "execution_count": 114,
     "metadata": {},
     "output_type": "execute_result"
    }
   ],
   "source": [
    "donnees_etudiants.iloc[ :,:]"
   ]
  },
  {
   "cell_type": "code",
   "execution_count": 115,
   "id": "56930904-c1ab-492c-aa54-93c291d37d4c",
   "metadata": {
    "tags": []
   },
   "outputs": [
    {
     "data": {
      "text/html": [
       "<div>\n",
       "<style scoped>\n",
       "    .dataframe tbody tr th:only-of-type {\n",
       "        vertical-align: middle;\n",
       "    }\n",
       "\n",
       "    .dataframe tbody tr th {\n",
       "        vertical-align: top;\n",
       "    }\n",
       "\n",
       "    .dataframe thead th {\n",
       "        text-align: right;\n",
       "    }\n",
       "</style>\n",
       "<table border=\"1\" class=\"dataframe\">\n",
       "  <thead>\n",
       "    <tr style=\"text-align: right;\">\n",
       "      <th></th>\n",
       "      <th>matricule</th>\n",
       "      <th>nom</th>\n",
       "      <th>prenom</th>\n",
       "      <th>age</th>\n",
       "      <th>GPA</th>\n",
       "    </tr>\n",
       "  </thead>\n",
       "  <tbody>\n",
       "    <tr>\n",
       "      <th>3</th>\n",
       "      <td>2025020077</td>\n",
       "      <td>bondo</td>\n",
       "      <td>van</td>\n",
       "      <td>15</td>\n",
       "      <td>A</td>\n",
       "    </tr>\n",
       "  </tbody>\n",
       "</table>\n",
       "</div>"
      ],
      "text/plain": [
       "    matricule    nom prenom  age GPA\n",
       "3  2025020077  bondo    van   15   A"
      ]
     },
     "execution_count": 115,
     "metadata": {},
     "output_type": "execute_result"
    }
   ],
   "source": [
    "donnees_etudiants.iloc[ 3:4,:]"
   ]
  },
  {
   "cell_type": "code",
   "execution_count": 116,
   "id": "eb58098c-ba65-4675-bb87-d3859a322e3f",
   "metadata": {
    "tags": []
   },
   "outputs": [
    {
     "data": {
      "text/html": [
       "<div>\n",
       "<style scoped>\n",
       "    .dataframe tbody tr th:only-of-type {\n",
       "        vertical-align: middle;\n",
       "    }\n",
       "\n",
       "    .dataframe tbody tr th {\n",
       "        vertical-align: top;\n",
       "    }\n",
       "\n",
       "    .dataframe thead th {\n",
       "        text-align: right;\n",
       "    }\n",
       "</style>\n",
       "<table border=\"1\" class=\"dataframe\">\n",
       "  <thead>\n",
       "    <tr style=\"text-align: right;\">\n",
       "      <th></th>\n",
       "      <th>age</th>\n",
       "    </tr>\n",
       "  </thead>\n",
       "  <tbody>\n",
       "    <tr>\n",
       "      <th>0</th>\n",
       "      <td>13</td>\n",
       "    </tr>\n",
       "    <tr>\n",
       "      <th>1</th>\n",
       "      <td>22</td>\n",
       "    </tr>\n",
       "    <tr>\n",
       "      <th>2</th>\n",
       "      <td>18</td>\n",
       "    </tr>\n",
       "    <tr>\n",
       "      <th>3</th>\n",
       "      <td>15</td>\n",
       "    </tr>\n",
       "    <tr>\n",
       "      <th>4</th>\n",
       "      <td>30</td>\n",
       "    </tr>\n",
       "  </tbody>\n",
       "</table>\n",
       "</div>"
      ],
      "text/plain": [
       "   age\n",
       "0   13\n",
       "1   22\n",
       "2   18\n",
       "3   15\n",
       "4   30"
      ]
     },
     "execution_count": 116,
     "metadata": {},
     "output_type": "execute_result"
    }
   ],
   "source": [
    "donnees_etudiants.iloc[ :,3:4]"
   ]
  },
  {
   "cell_type": "code",
   "execution_count": 117,
   "id": "5a233ae7-dfa4-4549-8194-9027cdca47a2",
   "metadata": {},
   "outputs": [],
   "source": [
    "donnees_etudiants['genre'] = ['M','F','M','F','M']\n",
    "donnees_etudiants['pourcentage'] = [56,87,65,45,69]"
   ]
  },
  {
   "cell_type": "code",
   "execution_count": 118,
   "id": "6afeb5b8-bd48-4a15-92ae-ac15a5566894",
   "metadata": {
    "tags": []
   },
   "outputs": [
    {
     "data": {
      "text/html": [
       "<div>\n",
       "<style scoped>\n",
       "    .dataframe tbody tr th:only-of-type {\n",
       "        vertical-align: middle;\n",
       "    }\n",
       "\n",
       "    .dataframe tbody tr th {\n",
       "        vertical-align: top;\n",
       "    }\n",
       "\n",
       "    .dataframe thead th {\n",
       "        text-align: right;\n",
       "    }\n",
       "</style>\n",
       "<table border=\"1\" class=\"dataframe\">\n",
       "  <thead>\n",
       "    <tr style=\"text-align: right;\">\n",
       "      <th></th>\n",
       "      <th>matricule</th>\n",
       "      <th>nom</th>\n",
       "      <th>prenom</th>\n",
       "      <th>age</th>\n",
       "      <th>GPA</th>\n",
       "      <th>genre</th>\n",
       "      <th>pourcentage</th>\n",
       "    </tr>\n",
       "  </thead>\n",
       "  <tbody>\n",
       "    <tr>\n",
       "      <th>0</th>\n",
       "      <td>2022020072</td>\n",
       "      <td>banza</td>\n",
       "      <td>jeremy</td>\n",
       "      <td>13</td>\n",
       "      <td>A</td>\n",
       "      <td>M</td>\n",
       "      <td>56</td>\n",
       "    </tr>\n",
       "    <tr>\n",
       "      <th>1</th>\n",
       "      <td>2022598072</td>\n",
       "      <td>mukini</td>\n",
       "      <td>jean marc</td>\n",
       "      <td>22</td>\n",
       "      <td>A</td>\n",
       "      <td>F</td>\n",
       "      <td>87</td>\n",
       "    </tr>\n",
       "    <tr>\n",
       "      <th>2</th>\n",
       "      <td>2023020078</td>\n",
       "      <td>kilumba</td>\n",
       "      <td>david</td>\n",
       "      <td>18</td>\n",
       "      <td>A</td>\n",
       "      <td>M</td>\n",
       "      <td>65</td>\n",
       "    </tr>\n",
       "    <tr>\n",
       "      <th>3</th>\n",
       "      <td>2025020077</td>\n",
       "      <td>bondo</td>\n",
       "      <td>van</td>\n",
       "      <td>15</td>\n",
       "      <td>A</td>\n",
       "      <td>F</td>\n",
       "      <td>45</td>\n",
       "    </tr>\n",
       "    <tr>\n",
       "      <th>4</th>\n",
       "      <td>2026020074</td>\n",
       "      <td>nkulu</td>\n",
       "      <td>baron</td>\n",
       "      <td>30</td>\n",
       "      <td>A</td>\n",
       "      <td>M</td>\n",
       "      <td>69</td>\n",
       "    </tr>\n",
       "  </tbody>\n",
       "</table>\n",
       "</div>"
      ],
      "text/plain": [
       "    matricule      nom     prenom  age GPA genre  pourcentage\n",
       "0  2022020072    banza     jeremy   13   A     M           56\n",
       "1  2022598072   mukini  jean marc   22   A     F           87\n",
       "2  2023020078  kilumba      david   18   A     M           65\n",
       "3  2025020077    bondo        van   15   A     F           45\n",
       "4  2026020074    nkulu      baron   30   A     M           69"
      ]
     },
     "execution_count": 118,
     "metadata": {},
     "output_type": "execute_result"
    }
   ],
   "source": [
    "donnees_etudiants"
   ]
  },
  {
   "cell_type": "code",
   "execution_count": 119,
   "id": "f746c8bc-2b7a-4b13-afae-36502014643d",
   "metadata": {
    "tags": []
   },
   "outputs": [],
   "source": [
    "donnees_etudiants.drop(columns = 'GPA',inplace = True, axis=1)"
   ]
  },
  {
   "cell_type": "code",
   "execution_count": 120,
   "id": "5cbc2d75-d73a-4d96-9596-efa4dc280599",
   "metadata": {
    "tags": []
   },
   "outputs": [
    {
     "data": {
      "text/html": [
       "<div>\n",
       "<style scoped>\n",
       "    .dataframe tbody tr th:only-of-type {\n",
       "        vertical-align: middle;\n",
       "    }\n",
       "\n",
       "    .dataframe tbody tr th {\n",
       "        vertical-align: top;\n",
       "    }\n",
       "\n",
       "    .dataframe thead th {\n",
       "        text-align: right;\n",
       "    }\n",
       "</style>\n",
       "<table border=\"1\" class=\"dataframe\">\n",
       "  <thead>\n",
       "    <tr style=\"text-align: right;\">\n",
       "      <th></th>\n",
       "      <th>matricule</th>\n",
       "      <th>nom</th>\n",
       "      <th>prenom</th>\n",
       "      <th>age</th>\n",
       "      <th>genre</th>\n",
       "      <th>pourcentage</th>\n",
       "    </tr>\n",
       "  </thead>\n",
       "  <tbody>\n",
       "    <tr>\n",
       "      <th>0</th>\n",
       "      <td>2022020072</td>\n",
       "      <td>banza</td>\n",
       "      <td>jeremy</td>\n",
       "      <td>13</td>\n",
       "      <td>M</td>\n",
       "      <td>56</td>\n",
       "    </tr>\n",
       "    <tr>\n",
       "      <th>1</th>\n",
       "      <td>2022598072</td>\n",
       "      <td>mukini</td>\n",
       "      <td>jean marc</td>\n",
       "      <td>22</td>\n",
       "      <td>F</td>\n",
       "      <td>87</td>\n",
       "    </tr>\n",
       "    <tr>\n",
       "      <th>2</th>\n",
       "      <td>2023020078</td>\n",
       "      <td>kilumba</td>\n",
       "      <td>david</td>\n",
       "      <td>18</td>\n",
       "      <td>M</td>\n",
       "      <td>65</td>\n",
       "    </tr>\n",
       "    <tr>\n",
       "      <th>3</th>\n",
       "      <td>2025020077</td>\n",
       "      <td>bondo</td>\n",
       "      <td>van</td>\n",
       "      <td>15</td>\n",
       "      <td>F</td>\n",
       "      <td>45</td>\n",
       "    </tr>\n",
       "    <tr>\n",
       "      <th>4</th>\n",
       "      <td>2026020074</td>\n",
       "      <td>nkulu</td>\n",
       "      <td>baron</td>\n",
       "      <td>30</td>\n",
       "      <td>M</td>\n",
       "      <td>69</td>\n",
       "    </tr>\n",
       "  </tbody>\n",
       "</table>\n",
       "</div>"
      ],
      "text/plain": [
       "    matricule      nom     prenom  age genre  pourcentage\n",
       "0  2022020072    banza     jeremy   13     M           56\n",
       "1  2022598072   mukini  jean marc   22     F           87\n",
       "2  2023020078  kilumba      david   18     M           65\n",
       "3  2025020077    bondo        van   15     F           45\n",
       "4  2026020074    nkulu      baron   30     M           69"
      ]
     },
     "execution_count": 120,
     "metadata": {},
     "output_type": "execute_result"
    }
   ],
   "source": [
    "donnees_etudiants"
   ]
  },
  {
   "cell_type": "code",
   "execution_count": 121,
   "id": "a4099ffd-8d65-4704-b528-5b6cca606831",
   "metadata": {
    "tags": []
   },
   "outputs": [],
   "source": [
    "# Convertir la colonne Genre en M = 1 et F=0\n",
    "# mapping de la colonne genre\n",
    "#mapping_genre= {'M': 1,'F': 0}\n",
    "#donnees_etudiants['genre']= donnees_etudiants ['genre'].map(mapping_genre)\n",
    "\n",
    "#\n",
    "\n",
    "#donnees_etudiants['genre']"
   ]
  },
  {
   "cell_type": "code",
   "execution_count": 122,
   "id": "ab9d6d58-9714-48ca-84da-d0ecb0064e7f",
   "metadata": {
    "tags": []
   },
   "outputs": [
    {
     "data": {
      "text/html": [
       "<div>\n",
       "<style scoped>\n",
       "    .dataframe tbody tr th:only-of-type {\n",
       "        vertical-align: middle;\n",
       "    }\n",
       "\n",
       "    .dataframe tbody tr th {\n",
       "        vertical-align: top;\n",
       "    }\n",
       "\n",
       "    .dataframe thead th {\n",
       "        text-align: right;\n",
       "    }\n",
       "</style>\n",
       "<table border=\"1\" class=\"dataframe\">\n",
       "  <thead>\n",
       "    <tr style=\"text-align: right;\">\n",
       "      <th></th>\n",
       "      <th>matricule</th>\n",
       "      <th>nom</th>\n",
       "      <th>prenom</th>\n",
       "      <th>age</th>\n",
       "      <th>genre</th>\n",
       "      <th>pourcentage</th>\n",
       "    </tr>\n",
       "  </thead>\n",
       "  <tbody>\n",
       "    <tr>\n",
       "      <th>0</th>\n",
       "      <td>2022020072</td>\n",
       "      <td>banza</td>\n",
       "      <td>jeremy</td>\n",
       "      <td>13</td>\n",
       "      <td>M</td>\n",
       "      <td>56</td>\n",
       "    </tr>\n",
       "    <tr>\n",
       "      <th>1</th>\n",
       "      <td>2022598072</td>\n",
       "      <td>mukini</td>\n",
       "      <td>jean marc</td>\n",
       "      <td>22</td>\n",
       "      <td>F</td>\n",
       "      <td>87</td>\n",
       "    </tr>\n",
       "    <tr>\n",
       "      <th>2</th>\n",
       "      <td>2023020078</td>\n",
       "      <td>kilumba</td>\n",
       "      <td>david</td>\n",
       "      <td>18</td>\n",
       "      <td>M</td>\n",
       "      <td>65</td>\n",
       "    </tr>\n",
       "    <tr>\n",
       "      <th>3</th>\n",
       "      <td>2025020077</td>\n",
       "      <td>bondo</td>\n",
       "      <td>van</td>\n",
       "      <td>15</td>\n",
       "      <td>F</td>\n",
       "      <td>45</td>\n",
       "    </tr>\n",
       "    <tr>\n",
       "      <th>4</th>\n",
       "      <td>2026020074</td>\n",
       "      <td>nkulu</td>\n",
       "      <td>baron</td>\n",
       "      <td>30</td>\n",
       "      <td>M</td>\n",
       "      <td>69</td>\n",
       "    </tr>\n",
       "  </tbody>\n",
       "</table>\n",
       "</div>"
      ],
      "text/plain": [
       "    matricule      nom     prenom  age genre  pourcentage\n",
       "0  2022020072    banza     jeremy   13     M           56\n",
       "1  2022598072   mukini  jean marc   22     F           87\n",
       "2  2023020078  kilumba      david   18     M           65\n",
       "3  2025020077    bondo        van   15     F           45\n",
       "4  2026020074    nkulu      baron   30     M           69"
      ]
     },
     "execution_count": 122,
     "metadata": {},
     "output_type": "execute_result"
    }
   ],
   "source": [
    "donnees_etudiants"
   ]
  },
  {
   "cell_type": "code",
   "execution_count": 123,
   "id": "73e3e1b5-177d-486a-bb00-129c02a1ad15",
   "metadata": {
    "tags": []
   },
   "outputs": [
    {
     "name": "stdout",
     "output_type": "stream",
     "text": [
      "<class 'pandas.core.frame.DataFrame'>\n",
      "RangeIndex: 5 entries, 0 to 4\n",
      "Data columns (total 6 columns):\n",
      " #   Column       Non-Null Count  Dtype \n",
      "---  ------       --------------  ----- \n",
      " 0   matricule    5 non-null      object\n",
      " 1   nom          5 non-null      object\n",
      " 2   prenom       5 non-null      object\n",
      " 3   age          5 non-null      int64 \n",
      " 4   genre        5 non-null      object\n",
      " 5   pourcentage  5 non-null      int64 \n",
      "dtypes: int64(2), object(4)\n",
      "memory usage: 372.0+ bytes\n"
     ]
    }
   ],
   "source": [
    "donnees_etudiants.info()"
   ]
  },
  {
   "cell_type": "markdown",
   "id": "399a3afa-86b0-4d10-9b9f-e654fe876e19",
   "metadata": {},
   "source": [
    "# D. VISUALISATION DES DONNEES"
   ]
  },
  {
   "cell_type": "code",
   "execution_count": 124,
   "id": "95819e62-c5f0-4ecc-8368-76134d8fffee",
   "metadata": {
    "tags": []
   },
   "outputs": [],
   "source": [
    "# Creation des donnees\n",
    "x = np.linspace(0,2,50)"
   ]
  },
  {
   "cell_type": "code",
   "execution_count": 125,
   "id": "dc24c32a-6c26-47ad-b65f-f444b79e1675",
   "metadata": {
    "tags": []
   },
   "outputs": [
    {
     "data": {
      "text/plain": [
       "array([0.        , 0.04081633, 0.08163265, 0.12244898, 0.16326531,\n",
       "       0.20408163, 0.24489796, 0.28571429, 0.32653061, 0.36734694,\n",
       "       0.40816327, 0.44897959, 0.48979592, 0.53061224, 0.57142857,\n",
       "       0.6122449 , 0.65306122, 0.69387755, 0.73469388, 0.7755102 ,\n",
       "       0.81632653, 0.85714286, 0.89795918, 0.93877551, 0.97959184,\n",
       "       1.02040816, 1.06122449, 1.10204082, 1.14285714, 1.18367347,\n",
       "       1.2244898 , 1.26530612, 1.30612245, 1.34693878, 1.3877551 ,\n",
       "       1.42857143, 1.46938776, 1.51020408, 1.55102041, 1.59183673,\n",
       "       1.63265306, 1.67346939, 1.71428571, 1.75510204, 1.79591837,\n",
       "       1.83673469, 1.87755102, 1.91836735, 1.95918367, 2.        ])"
      ]
     },
     "execution_count": 125,
     "metadata": {},
     "output_type": "execute_result"
    }
   ],
   "source": [
    "x"
   ]
  },
  {
   "cell_type": "code",
   "execution_count": 126,
   "id": "57f384bb-e1aa-4984-b325-062200c710b9",
   "metadata": {
    "tags": []
   },
   "outputs": [],
   "source": [
    "#Importter MATPLOTLIB\n",
    "import matplotlib.pyplot as plt"
   ]
  },
  {
   "cell_type": "code",
   "execution_count": 127,
   "id": "8be0fb6b-868c-45fe-8980-cf7dcabce292",
   "metadata": {
    "tags": []
   },
   "outputs": [
    {
     "data": {
      "text/plain": [
       "<matplotlib.legend.Legend at 0x246be5423d0>"
      ]
     },
     "execution_count": 127,
     "metadata": {},
     "output_type": "execute_result"
    },
    {
     "data": {
      "image/png": "[encoded data removed]",
      "text/plain": [
       "<Figure size 600x400 with 1 Axes>"
      ]
     },
     "metadata": {},
     "output_type": "display_data"
    }
   ],
   "source": [
    "fig, ax = plt.subplots(figsize=(6, 4))\n",
    "ax.plot(x, x*2, label='double')\n",
    "ax.plot(x, x**2, label='caree de x')\n",
    "ax.plot(x, x**3, label='cube de x')\n",
    "ax.set_xlabel('donnees de x')\n",
    "ax.set_ylabel('donnees de y')\n",
    "plt.title('donnees de linspace entre 0 et 2')\n",
    "ax.legend()\n",
    "              "
   ]
  },
  {
   "cell_type": "code",
   "execution_count": 128,
   "id": "8a4c113a-6b56-40a2-807a-c97113541d8b",
   "metadata": {
    "tags": []
   },
   "outputs": [],
   "source": [
    "# importer seaborn\n",
    "import seaborn as sns"
   ]
  },
  {
   "cell_type": "code",
   "execution_count": 129,
   "id": "00df9e8a-5d53-4073-b102-6cc90f9b376c",
   "metadata": {
    "tags": []
   },
   "outputs": [
    {
     "ename": "URLError",
     "evalue": "<urlopen error [Errno 11001] getaddrinfo failed>",
     "output_type": "error",
     "traceback": [
      "\u001b[1;31m---------------------------------------------------------------------------\u001b[0m",
      "\u001b[1;31mgaierror\u001b[0m                                  Traceback (most recent call last)",
      "File \u001b[1;32m~\\anaconda3\\Lib\\urllib\\request.py:1348\u001b[0m, in \u001b[0;36mAbstractHTTPHandler.do_open\u001b[1;34m(self, http_class, req, **http_conn_args)\u001b[0m\n\u001b[0;32m   1347\u001b[0m \u001b[38;5;28;01mtry\u001b[39;00m:\n\u001b[1;32m-> 1348\u001b[0m     h\u001b[38;5;241m.\u001b[39mrequest(req\u001b[38;5;241m.\u001b[39mget_method(), req\u001b[38;5;241m.\u001b[39mselector, req\u001b[38;5;241m.\u001b[39mdata, headers,\n\u001b[0;32m   1349\u001b[0m               encode_chunked\u001b[38;5;241m=\u001b[39mreq\u001b[38;5;241m.\u001b[39mhas_header(\u001b[38;5;124m'\u001b[39m\u001b[38;5;124mTransfer-encoding\u001b[39m\u001b[38;5;124m'\u001b[39m))\n\u001b[0;32m   1350\u001b[0m \u001b[38;5;28;01mexcept\u001b[39;00m \u001b[38;5;167;01mOSError\u001b[39;00m \u001b[38;5;28;01mas\u001b[39;00m err: \u001b[38;5;66;03m# timeout error\u001b[39;00m\n",
      "File \u001b[1;32m~\\anaconda3\\Lib\\http\\client.py:1286\u001b[0m, in \u001b[0;36mHTTPConnection.request\u001b[1;34m(self, method, url, body, headers, encode_chunked)\u001b[0m\n\u001b[0;32m   1285\u001b[0m \u001b[38;5;250m\u001b[39m\u001b[38;5;124;03m\"\"\"Send a complete request to the server.\"\"\"\u001b[39;00m\n\u001b[1;32m-> 1286\u001b[0m \u001b[38;5;28mself\u001b[39m\u001b[38;5;241m.\u001b[39m_send_request(method, url, body, headers, encode_chunked)\n",
      "File \u001b[1;32m~\\anaconda3\\Lib\\http\\client.py:1332\u001b[0m, in \u001b[0;36mHTTPConnection._send_request\u001b[1;34m(self, method, url, body, headers, encode_chunked)\u001b[0m\n\u001b[0;32m   1331\u001b[0m     body \u001b[38;5;241m=\u001b[39m _encode(body, \u001b[38;5;124m'\u001b[39m\u001b[38;5;124mbody\u001b[39m\u001b[38;5;124m'\u001b[39m)\n\u001b[1;32m-> 1332\u001b[0m \u001b[38;5;28mself\u001b[39m\u001b[38;5;241m.\u001b[39mendheaders(body, encode_chunked\u001b[38;5;241m=\u001b[39mencode_chunked)\n",
      "File \u001b[1;32m~\\anaconda3\\Lib\\http\\client.py:1281\u001b[0m, in \u001b[0;36mHTTPConnection.endheaders\u001b[1;34m(self, message_body, encode_chunked)\u001b[0m\n\u001b[0;32m   1280\u001b[0m     \u001b[38;5;28;01mraise\u001b[39;00m CannotSendHeader()\n\u001b[1;32m-> 1281\u001b[0m \u001b[38;5;28mself\u001b[39m\u001b[38;5;241m.\u001b[39m_send_output(message_body, encode_chunked\u001b[38;5;241m=\u001b[39mencode_chunked)\n",
      "File \u001b[1;32m~\\anaconda3\\Lib\\http\\client.py:1041\u001b[0m, in \u001b[0;36mHTTPConnection._send_output\u001b[1;34m(self, message_body, encode_chunked)\u001b[0m\n\u001b[0;32m   1040\u001b[0m \u001b[38;5;28;01mdel\u001b[39;00m \u001b[38;5;28mself\u001b[39m\u001b[38;5;241m.\u001b[39m_buffer[:]\n\u001b[1;32m-> 1041\u001b[0m \u001b[38;5;28mself\u001b[39m\u001b[38;5;241m.\u001b[39msend(msg)\n\u001b[0;32m   1043\u001b[0m \u001b[38;5;28;01mif\u001b[39;00m message_body \u001b[38;5;129;01mis\u001b[39;00m \u001b[38;5;129;01mnot\u001b[39;00m \u001b[38;5;28;01mNone\u001b[39;00m:\n\u001b[0;32m   1044\u001b[0m \n\u001b[0;32m   1045\u001b[0m     \u001b[38;5;66;03m# create a consistent interface to message_body\u001b[39;00m\n",
      "File \u001b[1;32m~\\anaconda3\\Lib\\http\\client.py:979\u001b[0m, in \u001b[0;36mHTTPConnection.send\u001b[1;34m(self, data)\u001b[0m\n\u001b[0;32m    978\u001b[0m \u001b[38;5;28;01mif\u001b[39;00m \u001b[38;5;28mself\u001b[39m\u001b[38;5;241m.\u001b[39mauto_open:\n\u001b[1;32m--> 979\u001b[0m     \u001b[38;5;28mself\u001b[39m\u001b[38;5;241m.\u001b[39mconnect()\n\u001b[0;32m    980\u001b[0m \u001b[38;5;28;01melse\u001b[39;00m:\n",
      "File \u001b[1;32m~\\anaconda3\\Lib\\http\\client.py:1451\u001b[0m, in \u001b[0;36mHTTPSConnection.connect\u001b[1;34m(self)\u001b[0m\n\u001b[0;32m   1449\u001b[0m \u001b[38;5;124m\"\u001b[39m\u001b[38;5;124mConnect to a host on a given (SSL) port.\u001b[39m\u001b[38;5;124m\"\u001b[39m\n\u001b[1;32m-> 1451\u001b[0m \u001b[38;5;28msuper\u001b[39m()\u001b[38;5;241m.\u001b[39mconnect()\n\u001b[0;32m   1453\u001b[0m \u001b[38;5;28;01mif\u001b[39;00m \u001b[38;5;28mself\u001b[39m\u001b[38;5;241m.\u001b[39m_tunnel_host:\n",
      "File \u001b[1;32m~\\anaconda3\\Lib\\http\\client.py:945\u001b[0m, in \u001b[0;36mHTTPConnection.connect\u001b[1;34m(self)\u001b[0m\n\u001b[0;32m    944\u001b[0m sys\u001b[38;5;241m.\u001b[39maudit(\u001b[38;5;124m\"\u001b[39m\u001b[38;5;124mhttp.client.connect\u001b[39m\u001b[38;5;124m\"\u001b[39m, \u001b[38;5;28mself\u001b[39m, \u001b[38;5;28mself\u001b[39m\u001b[38;5;241m.\u001b[39mhost, \u001b[38;5;28mself\u001b[39m\u001b[38;5;241m.\u001b[39mport)\n\u001b[1;32m--> 945\u001b[0m \u001b[38;5;28mself\u001b[39m\u001b[38;5;241m.\u001b[39msock \u001b[38;5;241m=\u001b[39m \u001b[38;5;28mself\u001b[39m\u001b[38;5;241m.\u001b[39m_create_connection(\n\u001b[0;32m    946\u001b[0m     (\u001b[38;5;28mself\u001b[39m\u001b[38;5;241m.\u001b[39mhost,\u001b[38;5;28mself\u001b[39m\u001b[38;5;241m.\u001b[39mport), \u001b[38;5;28mself\u001b[39m\u001b[38;5;241m.\u001b[39mtimeout, \u001b[38;5;28mself\u001b[39m\u001b[38;5;241m.\u001b[39msource_address)\n\u001b[0;32m    947\u001b[0m \u001b[38;5;66;03m# Might fail in OSs that don't implement TCP_NODELAY\u001b[39;00m\n",
      "File \u001b[1;32m~\\anaconda3\\Lib\\socket.py:827\u001b[0m, in \u001b[0;36mcreate_connection\u001b[1;34m(address, timeout, source_address, all_errors)\u001b[0m\n\u001b[0;32m    826\u001b[0m exceptions \u001b[38;5;241m=\u001b[39m []\n\u001b[1;32m--> 827\u001b[0m \u001b[38;5;28;01mfor\u001b[39;00m res \u001b[38;5;129;01min\u001b[39;00m getaddrinfo(host, port, \u001b[38;5;241m0\u001b[39m, SOCK_STREAM):\n\u001b[0;32m    828\u001b[0m     af, socktype, proto, canonname, sa \u001b[38;5;241m=\u001b[39m res\n",
      "File \u001b[1;32m~\\anaconda3\\Lib\\socket.py:962\u001b[0m, in \u001b[0;36mgetaddrinfo\u001b[1;34m(host, port, family, type, proto, flags)\u001b[0m\n\u001b[0;32m    961\u001b[0m addrlist \u001b[38;5;241m=\u001b[39m []\n\u001b[1;32m--> 962\u001b[0m \u001b[38;5;28;01mfor\u001b[39;00m res \u001b[38;5;129;01min\u001b[39;00m _socket\u001b[38;5;241m.\u001b[39mgetaddrinfo(host, port, family, \u001b[38;5;28mtype\u001b[39m, proto, flags):\n\u001b[0;32m    963\u001b[0m     af, socktype, proto, canonname, sa \u001b[38;5;241m=\u001b[39m res\n",
      "\u001b[1;31mgaierror\u001b[0m: [Errno 11001] getaddrinfo failed",
      "\nDuring handling of the above exception, another exception occurred:\n",
      "\u001b[1;31mURLError\u001b[0m                                  Traceback (most recent call last)",
      "Cell \u001b[1;32mIn[129], line 1\u001b[0m\n\u001b[1;32m----> 1\u001b[0m iris_data \u001b[38;5;241m=\u001b[39m sns\u001b[38;5;241m.\u001b[39mload_dataset(\u001b[38;5;124m'\u001b[39m\u001b[38;5;124miris\u001b[39m\u001b[38;5;124m'\u001b[39m)\n",
      "File \u001b[1;32m~\\anaconda3\\Lib\\site-packages\\seaborn\\utils.py:586\u001b[0m, in \u001b[0;36mload_dataset\u001b[1;34m(name, cache, data_home, **kws)\u001b[0m\n\u001b[0;32m    584\u001b[0m cache_path \u001b[38;5;241m=\u001b[39m os\u001b[38;5;241m.\u001b[39mpath\u001b[38;5;241m.\u001b[39mjoin(get_data_home(data_home), os\u001b[38;5;241m.\u001b[39mpath\u001b[38;5;241m.\u001b[39mbasename(url))\n\u001b[0;32m    585\u001b[0m \u001b[38;5;28;01mif\u001b[39;00m \u001b[38;5;129;01mnot\u001b[39;00m os\u001b[38;5;241m.\u001b[39mpath\u001b[38;5;241m.\u001b[39mexists(cache_path):\n\u001b[1;32m--> 586\u001b[0m     \u001b[38;5;28;01mif\u001b[39;00m name \u001b[38;5;129;01mnot\u001b[39;00m \u001b[38;5;129;01min\u001b[39;00m get_dataset_names():\n\u001b[0;32m    587\u001b[0m         \u001b[38;5;28;01mraise\u001b[39;00m \u001b[38;5;167;01mValueError\u001b[39;00m(\u001b[38;5;124mf\u001b[39m\u001b[38;5;124m\"\u001b[39m\u001b[38;5;124m'\u001b[39m\u001b[38;5;132;01m{\u001b[39;00mname\u001b[38;5;132;01m}\u001b[39;00m\u001b[38;5;124m'\u001b[39m\u001b[38;5;124m is not one of the example datasets.\u001b[39m\u001b[38;5;124m\"\u001b[39m)\n\u001b[0;32m    588\u001b[0m     urlretrieve(url, cache_path)\n",
      "File \u001b[1;32m~\\anaconda3\\Lib\\site-packages\\seaborn\\utils.py:512\u001b[0m, in \u001b[0;36mget_dataset_names\u001b[1;34m()\u001b[0m\n\u001b[0;32m    506\u001b[0m \u001b[38;5;250m\u001b[39m\u001b[38;5;124;03m\"\"\"Report available example datasets, useful for reporting issues.\u001b[39;00m\n\u001b[0;32m    507\u001b[0m \n\u001b[0;32m    508\u001b[0m \u001b[38;5;124;03mRequires an internet connection.\u001b[39;00m\n\u001b[0;32m    509\u001b[0m \n\u001b[0;32m    510\u001b[0m \u001b[38;5;124;03m\"\"\"\u001b[39;00m\n\u001b[0;32m    511\u001b[0m url \u001b[38;5;241m=\u001b[39m \u001b[38;5;124m\"\u001b[39m\u001b[38;5;124mhttps://github.com/mwaskom/seaborn-data\u001b[39m\u001b[38;5;124m\"\u001b[39m\n\u001b[1;32m--> 512\u001b[0m \u001b[38;5;28;01mwith\u001b[39;00m urlopen(url) \u001b[38;5;28;01mas\u001b[39;00m resp:\n\u001b[0;32m    513\u001b[0m     html \u001b[38;5;241m=\u001b[39m resp\u001b[38;5;241m.\u001b[39mread()\n\u001b[0;32m    515\u001b[0m pat \u001b[38;5;241m=\u001b[39m \u001b[38;5;124mr\u001b[39m\u001b[38;5;124m\"\u001b[39m\u001b[38;5;124m/mwaskom/seaborn-data/blob/master/(\u001b[39m\u001b[38;5;124m\\\u001b[39m\u001b[38;5;124mw*).csv\u001b[39m\u001b[38;5;124m\"\u001b[39m\n",
      "File \u001b[1;32m~\\anaconda3\\Lib\\urllib\\request.py:216\u001b[0m, in \u001b[0;36murlopen\u001b[1;34m(url, data, timeout, cafile, capath, cadefault, context)\u001b[0m\n\u001b[0;32m    214\u001b[0m \u001b[38;5;28;01melse\u001b[39;00m:\n\u001b[0;32m    215\u001b[0m     opener \u001b[38;5;241m=\u001b[39m _opener\n\u001b[1;32m--> 216\u001b[0m \u001b[38;5;28;01mreturn\u001b[39;00m opener\u001b[38;5;241m.\u001b[39mopen(url, data, timeout)\n",
      "File \u001b[1;32m~\\anaconda3\\Lib\\urllib\\request.py:519\u001b[0m, in \u001b[0;36mOpenerDirector.open\u001b[1;34m(self, fullurl, data, timeout)\u001b[0m\n\u001b[0;32m    516\u001b[0m     req \u001b[38;5;241m=\u001b[39m meth(req)\n\u001b[0;32m    518\u001b[0m sys\u001b[38;5;241m.\u001b[39maudit(\u001b[38;5;124m'\u001b[39m\u001b[38;5;124murllib.Request\u001b[39m\u001b[38;5;124m'\u001b[39m, req\u001b[38;5;241m.\u001b[39mfull_url, req\u001b[38;5;241m.\u001b[39mdata, req\u001b[38;5;241m.\u001b[39mheaders, req\u001b[38;5;241m.\u001b[39mget_method())\n\u001b[1;32m--> 519\u001b[0m response \u001b[38;5;241m=\u001b[39m \u001b[38;5;28mself\u001b[39m\u001b[38;5;241m.\u001b[39m_open(req, data)\n\u001b[0;32m    521\u001b[0m \u001b[38;5;66;03m# post-process response\u001b[39;00m\n\u001b[0;32m    522\u001b[0m meth_name \u001b[38;5;241m=\u001b[39m protocol\u001b[38;5;241m+\u001b[39m\u001b[38;5;124m\"\u001b[39m\u001b[38;5;124m_response\u001b[39m\u001b[38;5;124m\"\u001b[39m\n",
      "File \u001b[1;32m~\\anaconda3\\Lib\\urllib\\request.py:536\u001b[0m, in \u001b[0;36mOpenerDirector._open\u001b[1;34m(self, req, data)\u001b[0m\n\u001b[0;32m    533\u001b[0m     \u001b[38;5;28;01mreturn\u001b[39;00m result\n\u001b[0;32m    535\u001b[0m protocol \u001b[38;5;241m=\u001b[39m req\u001b[38;5;241m.\u001b[39mtype\n\u001b[1;32m--> 536\u001b[0m result \u001b[38;5;241m=\u001b[39m \u001b[38;5;28mself\u001b[39m\u001b[38;5;241m.\u001b[39m_call_chain(\u001b[38;5;28mself\u001b[39m\u001b[38;5;241m.\u001b[39mhandle_open, protocol, protocol \u001b[38;5;241m+\u001b[39m\n\u001b[0;32m    537\u001b[0m                           \u001b[38;5;124m'\u001b[39m\u001b[38;5;124m_open\u001b[39m\u001b[38;5;124m'\u001b[39m, req)\n\u001b[0;32m    538\u001b[0m \u001b[38;5;28;01mif\u001b[39;00m result:\n\u001b[0;32m    539\u001b[0m     \u001b[38;5;28;01mreturn\u001b[39;00m result\n",
      "File \u001b[1;32m~\\anaconda3\\Lib\\urllib\\request.py:496\u001b[0m, in \u001b[0;36mOpenerDirector._call_chain\u001b[1;34m(self, chain, kind, meth_name, *args)\u001b[0m\n\u001b[0;32m    494\u001b[0m \u001b[38;5;28;01mfor\u001b[39;00m handler \u001b[38;5;129;01min\u001b[39;00m handlers:\n\u001b[0;32m    495\u001b[0m     func \u001b[38;5;241m=\u001b[39m \u001b[38;5;28mgetattr\u001b[39m(handler, meth_name)\n\u001b[1;32m--> 496\u001b[0m     result \u001b[38;5;241m=\u001b[39m func(\u001b[38;5;241m*\u001b[39margs)\n\u001b[0;32m    497\u001b[0m     \u001b[38;5;28;01mif\u001b[39;00m result \u001b[38;5;129;01mis\u001b[39;00m \u001b[38;5;129;01mnot\u001b[39;00m \u001b[38;5;28;01mNone\u001b[39;00m:\n\u001b[0;32m    498\u001b[0m         \u001b[38;5;28;01mreturn\u001b[39;00m result\n",
      "File \u001b[1;32m~\\anaconda3\\Lib\\urllib\\request.py:1391\u001b[0m, in \u001b[0;36mHTTPSHandler.https_open\u001b[1;34m(self, req)\u001b[0m\n\u001b[0;32m   1390\u001b[0m \u001b[38;5;28;01mdef\u001b[39;00m \u001b[38;5;21mhttps_open\u001b[39m(\u001b[38;5;28mself\u001b[39m, req):\n\u001b[1;32m-> 1391\u001b[0m     \u001b[38;5;28;01mreturn\u001b[39;00m \u001b[38;5;28mself\u001b[39m\u001b[38;5;241m.\u001b[39mdo_open(http\u001b[38;5;241m.\u001b[39mclient\u001b[38;5;241m.\u001b[39mHTTPSConnection, req,\n\u001b[0;32m   1392\u001b[0m         context\u001b[38;5;241m=\u001b[39m\u001b[38;5;28mself\u001b[39m\u001b[38;5;241m.\u001b[39m_context, check_hostname\u001b[38;5;241m=\u001b[39m\u001b[38;5;28mself\u001b[39m\u001b[38;5;241m.\u001b[39m_check_hostname)\n",
      "File \u001b[1;32m~\\anaconda3\\Lib\\urllib\\request.py:1351\u001b[0m, in \u001b[0;36mAbstractHTTPHandler.do_open\u001b[1;34m(self, http_class, req, **http_conn_args)\u001b[0m\n\u001b[0;32m   1348\u001b[0m         h\u001b[38;5;241m.\u001b[39mrequest(req\u001b[38;5;241m.\u001b[39mget_method(), req\u001b[38;5;241m.\u001b[39mselector, req\u001b[38;5;241m.\u001b[39mdata, headers,\n\u001b[0;32m   1349\u001b[0m                   encode_chunked\u001b[38;5;241m=\u001b[39mreq\u001b[38;5;241m.\u001b[39mhas_header(\u001b[38;5;124m'\u001b[39m\u001b[38;5;124mTransfer-encoding\u001b[39m\u001b[38;5;124m'\u001b[39m))\n\u001b[0;32m   1350\u001b[0m     \u001b[38;5;28;01mexcept\u001b[39;00m \u001b[38;5;167;01mOSError\u001b[39;00m \u001b[38;5;28;01mas\u001b[39;00m err: \u001b[38;5;66;03m# timeout error\u001b[39;00m\n\u001b[1;32m-> 1351\u001b[0m         \u001b[38;5;28;01mraise\u001b[39;00m URLError(err)\n\u001b[0;32m   1352\u001b[0m     r \u001b[38;5;241m=\u001b[39m h\u001b[38;5;241m.\u001b[39mgetresponse()\n\u001b[0;32m   1353\u001b[0m \u001b[38;5;28;01mexcept\u001b[39;00m:\n",
      "\u001b[1;31mURLError\u001b[0m: <urlopen error [Errno 11001] getaddrinfo failed>"
     ]
    }
   ],
   "source": [
    "iris_data = sns.load_dataset('iris')"
   ]
  },
  {
   "cell_type": "code",
   "execution_count": null,
   "id": "4c44f5bd-cba9-484b-af88-1157bac3f16a",
   "metadata": {
    "tags": []
   },
   "outputs": [],
   "source": []
  },
  {
   "cell_type": "code",
   "execution_count": null,
   "id": "451e8d01-5dc3-4861-83cd-caa0a376ed28",
   "metadata": {},
   "outputs": [],
   "source": []
  },
  {
   "cell_type": "code",
   "execution_count": null,
   "id": "a20d0515-9035-4019-a71c-d6891a7a6151",
   "metadata": {},
   "outputs": [],
   "source": []
  },
  {
   "cell_type": "code",
   "execution_count": null,
   "id": "6da22c05-ec3b-41d4-b8dc-a6352d45e9d6",
   "metadata": {},
   "outputs": [],
   "source": []
  },
  {
   "cell_type": "code",
   "execution_count": null,
   "id": "0272ed0c-5e1d-4513-bc4d-6823897d4da8",
   "metadata": {},
   "outputs": [],
   "source": []
  },
  {
   "cell_type": "code",
   "execution_count": null,
   "id": "9ccfc9e7-ad77-4547-95e5-53d03008b53b",
   "metadata": {},
   "outputs": [],
   "source": []
  }
 ],
 "metadata": {
  "kernelspec": {
   "display_name": "Python 3 (ipykernel)",
   "language": "python",
   "name": "python3"
  },
  "language_info": {
   "codemirror_mode": {
    "name": "ipython",
    "version": 3
   },
   "file_extension": ".py",
   "mimetype": "text/x-python",
   "name": "python",
   "nbconvert_exporter": "python",
   "pygments_lexer": "ipython3",
   "version": "3.11.5"
  }
 },
 "nbformat": 4,
 "nbformat_minor": 5
}
